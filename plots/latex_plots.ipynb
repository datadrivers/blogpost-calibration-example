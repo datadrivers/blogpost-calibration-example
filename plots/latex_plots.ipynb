{
 "cells": [
  {
   "cell_type": "markdown",
   "metadata": {
    "pycharm": {
     "name": "#%% md\n"
    }
   },
   "source": [
    "## Formulas"
   ]
  },
  {
   "cell_type": "markdown",
   "metadata": {
    "pycharm": {
     "name": "#%% md\n"
    }
   },
   "source": [
    "### ECE"
   ]
  },
  {
   "cell_type": "markdown",
   "metadata": {},
   "source": [
    "$\n",
    "\\text{ECE}(FP,MPP) = (\\sum_{i=1}^n \\frac{B_i}{N} \\left| \\text{FP}_{i} - \\text{MPP}_{i} \\right|)*100\n",
    "$"
   ]
  },
  {
   "cell_type": "markdown",
   "metadata": {},
   "source": [
    "$\n",
    "\\small{\n",
    "\\begin{align*}\n",
    "FP = FP_1, \\ldots, FP_n &:= \\text{Fraction of Positives} \\\\\n",
    "MPP = MPP_1, \\ldots, MPP_n &:= \\text{Mean Predicted Positives} \\\\\n",
    "N&:= \\text{Number of datapoints} \\\\\n",
    "n&:= \\text{Number of bins} \\\\\n",
    "B_i &:= \\text{Number of datapoints in bin i} \\\\\n",
    "\\end{align*}\n",
    "}\n",
    "$"
   ]
  },
  {
   "cell_type": "markdown",
   "metadata": {
    "pycharm": {
     "name": "#%% md\n"
    }
   },
   "source": [
    "### MCE"
   ]
  },
  {
   "cell_type": "markdown",
   "metadata": {},
   "source": [
    "$\n",
    "\\text{MCE}(FP, MPP) = (\\max_{i=1}^{n} \\left( \\left| FP_i - MPP_i \\right| \\right)) * 100\n",
    "$"
   ]
  },
  {
   "cell_type": "markdown",
   "metadata": {
    "pycharm": {
     "name": "#%% md\n"
    }
   },
   "source": [
    "### Relative MCE"
   ]
  },
  {
   "cell_type": "markdown",
   "metadata": {
    "pycharm": {
     "name": "#%% md\n"
    }
   },
   "source": [
    "$\n",
    "\\text{MCE rel}(FP, MPP) = (\\max_{i=1}^{n} \\left( \\frac{\\left| FP_i - MPP_i \\right|}{\\left| MPP_i \\right|} \\right)) * 100\n",
    "$"
   ]
  },
  {
   "cell_type": "code",
   "execution_count": null,
   "metadata": {},
   "outputs": [],
   "source": []
  }
 ],
 "metadata": {
  "kernelspec": {
   "display_name": "Python 3 (ipykernel)",
   "language": "python",
   "name": "python3"
  },
  "language_info": {
   "codemirror_mode": {
    "name": "ipython",
    "version": 3
   },
   "file_extension": ".py",
   "mimetype": "text/x-python",
   "name": "python",
   "nbconvert_exporter": "python",
   "pygments_lexer": "ipython3",
   "version": "3.8.1"
  }
 },
 "nbformat": 4,
 "nbformat_minor": 4
}
